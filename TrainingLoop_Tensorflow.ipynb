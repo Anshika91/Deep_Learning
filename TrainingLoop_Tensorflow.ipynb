{
  "nbformat": 4,
  "nbformat_minor": 0,
  "metadata": {
    "colab": {
      "provenance": [],
      "authorship_tag": "ABX9TyNUiVc3UCku/N8upRusaX1i",
      "include_colab_link": true
    },
    "kernelspec": {
      "name": "python3",
      "display_name": "Python 3"
    },
    "language_info": {
      "name": "python"
    }
  },
  "cells": [
    {
      "cell_type": "markdown",
      "metadata": {
        "id": "view-in-github",
        "colab_type": "text"
      },
      "source": [
        "<a href=\"https://colab.research.google.com/github/Anshika91/Deep_Learning/blob/main/TrainingLoop_Tensorflow.ipynb\" target=\"_parent\"><img src=\"https://colab.research.google.com/assets/colab-badge.svg\" alt=\"Open In Colab\"/></a>"
      ]
    },
    {
      "cell_type": "code",
      "execution_count": null,
      "metadata": {
        "id": "F7SaammzrMkx"
      },
      "outputs": [],
      "source": [
        "import tensorflow as tf"
      ]
    },
    {
      "cell_type": "code",
      "source": [
        "tf.range(10)"
      ],
      "metadata": {
        "colab": {
          "base_uri": "https://localhost:8080/"
        },
        "id": "f5n6SLIurPm5",
        "outputId": "1c6b97f6-b494-419f-ed7e-773fa50b0d6a"
      },
      "execution_count": null,
      "outputs": [
        {
          "output_type": "execute_result",
          "data": {
            "text/plain": [
              "<tf.Tensor: shape=(10,), dtype=int32, numpy=array([0, 1, 2, 3, 4, 5, 6, 7, 8, 9], dtype=int32)>"
            ]
          },
          "metadata": {},
          "execution_count": 2
        }
      ]
    },
    {
      "cell_type": "code",
      "source": [
        "import numpy as np"
      ],
      "metadata": {
        "id": "O2L8N-ExrRc0"
      },
      "execution_count": null,
      "outputs": []
    },
    {
      "cell_type": "code",
      "source": [
        "tf.constant(np.arange(10))"
      ],
      "metadata": {
        "colab": {
          "base_uri": "https://localhost:8080/"
        },
        "id": "EMZ7JhSQrUoV",
        "outputId": "5d64c3d0-e6de-4436-e92d-869d18c51443"
      },
      "execution_count": null,
      "outputs": [
        {
          "output_type": "execute_result",
          "data": {
            "text/plain": [
              "<tf.Tensor: shape=(10,), dtype=int64, numpy=array([0, 1, 2, 3, 4, 5, 6, 7, 8, 9])>"
            ]
          },
          "metadata": {},
          "execution_count": 5
        }
      ]
    },
    {
      "cell_type": "code",
      "source": [
        "import tensorflow as tf\n",
        "from tensorflow import keras\n",
        "from tensorflow.keras import layers\n",
        "from sklearn.model_selection import train_test_split\n",
        "\n",
        "# Load the Fashion MNIST dataset\n",
        "(x_train, y_train), (x_test, y_test) = keras.datasets.fashion_mnist.load_data()\n",
        "\n",
        "# Normalize pixel values to the range of 0-1\n",
        "x_train = x_train.astype(\"float32\") / 255.0\n",
        "x_test = x_test.astype(\"float32\") / 255.0\n",
        "\n",
        "# Split the data into training and validation sets\n",
        "x_train, x_val, y_train, y_val = train_test_split(x_train, y_train, test_size=0.2, random_state=42)\n"
      ],
      "metadata": {
        "id": "riWyNc3hraAP",
        "colab": {
          "base_uri": "https://localhost:8080/"
        },
        "outputId": "5a04b5d4-402b-4193-8db0-a8bddb713f8d"
      },
      "execution_count": 1,
      "outputs": [
        {
          "output_type": "stream",
          "name": "stdout",
          "text": [
            "Downloading data from https://storage.googleapis.com/tensorflow/tf-keras-datasets/train-labels-idx1-ubyte.gz\n",
            "29515/29515 [==============================] - 0s 0us/step\n",
            "Downloading data from https://storage.googleapis.com/tensorflow/tf-keras-datasets/train-images-idx3-ubyte.gz\n",
            "26421880/26421880 [==============================] - 0s 0us/step\n",
            "Downloading data from https://storage.googleapis.com/tensorflow/tf-keras-datasets/t10k-labels-idx1-ubyte.gz\n",
            "5148/5148 [==============================] - 0s 0us/step\n",
            "Downloading data from https://storage.googleapis.com/tensorflow/tf-keras-datasets/t10k-images-idx3-ubyte.gz\n",
            "4422102/4422102 [==============================] - 0s 0us/step\n"
          ]
        }
      ]
    },
    {
      "cell_type": "code",
      "source": [
        "def create_model():\n",
        "    model = keras.Sequential([\n",
        "        layers.Reshape(target_shape=(28, 28, 1), input_shape=(28, 28)),\n",
        "        layers.Conv2D(filters=32, kernel_size=(3, 3), activation='relu'),\n",
        "        layers.MaxPooling2D(pool_size=(2, 2)),\n",
        "        layers.Flatten(),\n",
        "        layers.Dense(units=64, activation='relu'),\n",
        "        layers.Dense(units=10, activation='softmax')\n",
        "    ])\n",
        "    return model\n",
        "\n",
        "model = create_model()"
      ],
      "metadata": {
        "id": "uKbVuB54NMWX"
      },
      "execution_count": 3,
      "outputs": []
    },
    {
      "cell_type": "code",
      "source": [
        "# Define the loss function and optimizer\n",
        "loss_fn = keras.losses.SparseCategoricalCrossentropy()\n",
        "optimizer_upper = keras.optimizers.Adam(learning_rate=0.001)  # Learning rate for upper layers\n",
        "optimizer_lower = keras.optimizers.Adam(learning_rate=0.0001)  # Learning rate for lower layers\n",
        "\n",
        "# Metrics to track the mean training loss and accuracy\n",
        "train_loss_metric = keras.metrics.Mean()\n",
        "train_accuracy_metric = keras.metrics.SparseCategoricalAccuracy()\n",
        "\n",
        "# Metrics to track the validation loss and accuracy\n",
        "val_loss_metric = keras.metrics.Mean()\n",
        "val_accuracy_metric = keras.metrics.SparseCategoricalAccuracy()\n",
        "\n",
        "# Define the batch size and number of epochs\n",
        "batch_size = 64\n",
        "epochs = 10\n",
        "\n",
        "# Training loop\n",
        "for epoch in range(epochs):\n",
        "    print(f\"Epoch {epoch+1}/{epochs}\")\n",
        "    \n",
        "    # Reset the metrics\n",
        "    train_loss_metric.reset_states()\n",
        "    train_accuracy_metric.reset_states()\n",
        "    val_loss_metric.reset_states()\n",
        "    val_accuracy_metric.reset_states()\n",
        "    \n",
        "    # Iterate over the batches of the training data\n",
        "    for step, (x_batch_train, y_batch_train) in enumerate(\n",
        "        tf.data.Dataset.from_tensor_slices((x_train, y_train)).batch(batch_size)\n",
        "    ):\n",
        "        with tf.GradientTape() as tape:\n",
        "            # Forward pass\n",
        "            logits = model(x_batch_train, training=True)\n",
        "            loss_value = loss_fn(y_batch_train, logits)\n",
        "        \n",
        "        # Compute gradients\n",
        "        gradients = tape.gradient(loss_value, model.trainable_variables)\n",
        "        \n",
        "        # Apply different learning rates to upper and lower layers\n",
        "        gradients_upper = gradients[:4]\n",
        "        gradients_lower = gradients[4:]\n",
        "        \n",
        "        # Update weights using the respective optimizers\n",
        "        optimizer_upper.apply_gradients(zip(gradients_upper, model.trainable_variables[:4]))\n",
        "        optimizer_lower.apply_gradients(zip(gradients_lower, model.trainable_variables[4:]))\n",
        "        \n",
        "        # Update the training metrics\n",
        "        train_loss_metric.update_state(loss_value)\n",
        "        train_accuracy_metric.update_state(y_batch_train, logits)\n",
        "        \n",
        "        # Print training progress\n",
        "        if step % 200 == 0:\n",
        "            print(\n",
        "                f\"Iteration {step}/{len(x_train)//batch_size} - \"\n",
        "                f\"Mean Loss: {train_loss_metric.result():.4f} - \"\n",
        "                f\"Mean Accuracy: {train_accuracy_metric.result() * 100:.2f}%\"\n",
        "            )\n",
        "    \n",
        "    # Perform validation at the end of each epoch\n",
        "    val_logits = model(x_val, training=False)\n",
        "    val_loss_value = loss_fn(y_val, val_logits)\n",
        "    \n",
        "    # Update the validation metrics\n",
        "    val_loss_metric.update_state(val_loss_value)\n",
        "    val_accuracy_metric.update_state(y_val, val_logits)\n",
        "    \n",
        "    # Print validation results\n",
        "    print(\n",
        "        f\"Validation Loss: {val_loss_metric.result():.4f} - \"\n",
        "        f\"Validation Accuracy: {val_accuracy_metric.result() * 100:.2f}%\\n\"\n",
        "    )"
      ],
      "metadata": {
        "colab": {
          "base_uri": "https://localhost:8080/"
        },
        "id": "QVgqUCWUNdkY",
        "outputId": "466d3a88-bfe1-474c-c645-db7f6cc95c35"
      },
      "execution_count": 4,
      "outputs": [
        {
          "output_type": "stream",
          "name": "stdout",
          "text": [
            "Epoch 1/10\n",
            "Iteration 0/750 - Mean Loss: 2.2850 - Mean Accuracy: 7.81%\n",
            "Iteration 200/750 - Mean Loss: 0.6821 - Mean Accuracy: 77.25%\n",
            "Iteration 400/750 - Mean Loss: 0.5616 - Mean Accuracy: 80.82%\n",
            "Iteration 600/750 - Mean Loss: 0.5084 - Mean Accuracy: 82.50%\n",
            "Validation Loss: 0.3538 - Validation Accuracy: 87.98%\n",
            "\n",
            "Epoch 2/10\n",
            "Iteration 0/750 - Mean Loss: 0.3506 - Mean Accuracy: 89.06%\n",
            "Iteration 200/750 - Mean Loss: 0.3435 - Mean Accuracy: 88.11%\n",
            "Iteration 400/750 - Mean Loss: 0.3272 - Mean Accuracy: 88.53%\n",
            "Iteration 600/750 - Mean Loss: 0.3241 - Mean Accuracy: 88.63%\n",
            "Validation Loss: 0.3078 - Validation Accuracy: 89.33%\n",
            "\n",
            "Epoch 3/10\n",
            "Iteration 0/750 - Mean Loss: 0.2651 - Mean Accuracy: 89.06%\n",
            "Iteration 200/750 - Mean Loss: 0.2895 - Mean Accuracy: 90.04%\n",
            "Iteration 400/750 - Mean Loss: 0.2786 - Mean Accuracy: 90.22%\n",
            "Iteration 600/750 - Mean Loss: 0.2786 - Mean Accuracy: 90.18%\n",
            "Validation Loss: 0.2897 - Validation Accuracy: 89.81%\n",
            "\n",
            "Epoch 4/10\n",
            "Iteration 0/750 - Mean Loss: 0.2159 - Mean Accuracy: 92.19%\n",
            "Iteration 200/750 - Mean Loss: 0.2571 - Mean Accuracy: 90.99%\n",
            "Iteration 400/750 - Mean Loss: 0.2489 - Mean Accuracy: 91.17%\n",
            "Iteration 600/750 - Mean Loss: 0.2504 - Mean Accuracy: 91.10%\n",
            "Validation Loss: 0.2795 - Validation Accuracy: 90.23%\n",
            "\n",
            "Epoch 5/10\n",
            "Iteration 0/750 - Mean Loss: 0.1817 - Mean Accuracy: 92.19%\n",
            "Iteration 200/750 - Mean Loss: 0.2343 - Mean Accuracy: 91.80%\n",
            "Iteration 400/750 - Mean Loss: 0.2278 - Mean Accuracy: 91.87%\n",
            "Iteration 600/750 - Mean Loss: 0.2297 - Mean Accuracy: 91.81%\n",
            "Validation Loss: 0.2727 - Validation Accuracy: 90.43%\n",
            "\n",
            "Epoch 6/10\n",
            "Iteration 0/750 - Mean Loss: 0.1551 - Mean Accuracy: 93.75%\n",
            "Iteration 200/750 - Mean Loss: 0.2162 - Mean Accuracy: 92.41%\n",
            "Iteration 400/750 - Mean Loss: 0.2106 - Mean Accuracy: 92.58%\n",
            "Iteration 600/750 - Mean Loss: 0.2126 - Mean Accuracy: 92.48%\n",
            "Validation Loss: 0.2680 - Validation Accuracy: 90.61%\n",
            "\n",
            "Epoch 7/10\n",
            "Iteration 0/750 - Mean Loss: 0.1436 - Mean Accuracy: 93.75%\n",
            "Iteration 200/750 - Mean Loss: 0.1999 - Mean Accuracy: 92.96%\n",
            "Iteration 400/750 - Mean Loss: 0.1951 - Mean Accuracy: 93.10%\n",
            "Iteration 600/750 - Mean Loss: 0.1973 - Mean Accuracy: 93.04%\n",
            "Validation Loss: 0.2674 - Validation Accuracy: 90.61%\n",
            "\n",
            "Epoch 8/10\n",
            "Iteration 0/750 - Mean Loss: 0.1311 - Mean Accuracy: 93.75%\n",
            "Iteration 200/750 - Mean Loss: 0.1857 - Mean Accuracy: 93.61%\n",
            "Iteration 400/750 - Mean Loss: 0.1815 - Mean Accuracy: 93.68%\n",
            "Iteration 600/750 - Mean Loss: 0.1835 - Mean Accuracy: 93.58%\n",
            "Validation Loss: 0.2694 - Validation Accuracy: 90.65%\n",
            "\n",
            "Epoch 9/10\n",
            "Iteration 0/750 - Mean Loss: 0.1229 - Mean Accuracy: 93.75%\n",
            "Iteration 200/750 - Mean Loss: 0.1725 - Mean Accuracy: 94.12%\n",
            "Iteration 400/750 - Mean Loss: 0.1689 - Mean Accuracy: 94.16%\n",
            "Iteration 600/750 - Mean Loss: 0.1709 - Mean Accuracy: 94.10%\n",
            "Validation Loss: 0.2716 - Validation Accuracy: 90.75%\n",
            "\n",
            "Epoch 10/10\n",
            "Iteration 0/750 - Mean Loss: 0.1191 - Mean Accuracy: 95.31%\n",
            "Iteration 200/750 - Mean Loss: 0.1603 - Mean Accuracy: 94.54%\n",
            "Iteration 400/750 - Mean Loss: 0.1569 - Mean Accuracy: 94.63%\n",
            "Iteration 600/750 - Mean Loss: 0.1588 - Mean Accuracy: 94.55%\n",
            "Validation Loss: 0.2731 - Validation Accuracy: 90.86%\n",
            "\n"
          ]
        }
      ]
    },
    {
      "cell_type": "code",
      "source": [],
      "metadata": {
        "id": "eG591KgYNe0q"
      },
      "execution_count": null,
      "outputs": []
    }
  ]
}