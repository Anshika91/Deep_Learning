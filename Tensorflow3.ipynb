{
  "nbformat": 4,
  "nbformat_minor": 0,
  "metadata": {
    "colab": {
      "provenance": [],
      "authorship_tag": "ABX9TyPySSxGx4U8vJkXL67VHvbv",
      "include_colab_link": true
    },
    "kernelspec": {
      "name": "python3",
      "display_name": "Python 3"
    },
    "language_info": {
      "name": "python"
    },
    "accelerator": "GPU",
    "gpuClass": "standard"
  },
  "cells": [
    {
      "cell_type": "markdown",
      "metadata": {
        "id": "view-in-github",
        "colab_type": "text"
      },
      "source": [
        "<a href=\"https://colab.research.google.com/github/Anshika91/Deep_Learning/blob/main/Tensorflow3.ipynb\" target=\"_parent\"><img src=\"https://colab.research.google.com/assets/colab-badge.svg\" alt=\"Open In Colab\"/></a>"
      ]
    },
    {
      "cell_type": "markdown",
      "source": [
        "Ragged Array. and Ragged Tensors\n"
      ],
      "metadata": {
        "id": "IbaMclOPhXSt"
      }
    },
    {
      "cell_type": "code",
      "execution_count": null,
      "metadata": {
        "id": "aYQ7f_2ZdxL3"
      },
      "outputs": [],
      "source": [
        "import numpy as np"
      ]
    },
    {
      "cell_type": "code",
      "source": [
        "x=np.array([[1,2,3],[4,5,6],[7,8,9],[10,11]])"
      ],
      "metadata": {
        "colab": {
          "base_uri": "https://localhost:8080/"
        },
        "id": "WtblvOaRd57l",
        "outputId": "2e3bb397-dde4-404a-a4ec-fcfbfca46a80"
      },
      "execution_count": null,
      "outputs": [
        {
          "output_type": "stream",
          "name": "stderr",
          "text": [
            "<ipython-input-3-e9f03e10e52e>:1: VisibleDeprecationWarning: Creating an ndarray from ragged nested sequences (which is a list-or-tuple of lists-or-tuples-or ndarrays with different lengths or shapes) is deprecated. If you meant to do this, you must specify 'dtype=object' when creating the ndarray.\n",
            "  x=np.array([[1,2,3],[4,5,6],[7,8,9],[10,11]])\n"
          ]
        }
      ]
    },
    {
      "cell_type": "code",
      "source": [
        "x"
      ],
      "metadata": {
        "colab": {
          "base_uri": "https://localhost:8080/"
        },
        "id": "lwZErfCOeCrb",
        "outputId": "9141f980-91ae-44fb-eae4-a42970a20858"
      },
      "execution_count": null,
      "outputs": [
        {
          "output_type": "execute_result",
          "data": {
            "text/plain": [
              "array([list([1, 2, 3]), list([4, 5, 6]), list([7, 8, 9]), list([10, 11])],\n",
              "      dtype=object)"
            ]
          },
          "metadata": {},
          "execution_count": 4
        }
      ]
    },
    {
      "cell_type": "code",
      "source": [
        "# Ragged array A special kind of array that represents a list of arrays of differenet siz., it is a tensor with one or more ragged dimensions.\n",
        "import tensorflow as tf\n",
        "#tf.constant([1.,2,3],[4.,5,6.,7.]) # Not able \n",
        "r1=tf.ragged.constant([[65,66],[],[67]])"
      ],
      "metadata": {
        "id": "tmz35-B0eJ7R"
      },
      "execution_count": null,
      "outputs": []
    },
    {
      "cell_type": "code",
      "source": [
        "r2=tf.ragged.constant([[67,97,102,233],[67,111,102,102,101,101],[99,97,102,102,232],[21654,21857]])"
      ],
      "metadata": {
        "id": "PpYBgDTKiVGc"
      },
      "execution_count": null,
      "outputs": []
    },
    {
      "cell_type": "code",
      "source": [
        "r3=tf.concat([r1,r2],axis=0)"
      ],
      "metadata": {
        "id": "nzVj9yQdjKz3"
      },
      "execution_count": null,
      "outputs": []
    },
    {
      "cell_type": "code",
      "source": [
        "r3.shape  # r3 shape is tensor shape."
      ],
      "metadata": {
        "colab": {
          "base_uri": "https://localhost:8080/"
        },
        "id": "ftwbO_VDjSdo",
        "outputId": "556b8b9a-eab9-4044-9734-2b12e6c2dab2"
      },
      "execution_count": null,
      "outputs": [
        {
          "output_type": "execute_result",
          "data": {
            "text/plain": [
              "TensorShape([7, None])"
            ]
          },
          "metadata": {},
          "execution_count": 8
        }
      ]
    },
    {
      "cell_type": "code",
      "source": [
        "r4=tf.ragged.constant([[1,2,3],[4]])"
      ],
      "metadata": {
        "id": "IBBjhUwDjVDf"
      },
      "execution_count": null,
      "outputs": []
    },
    {
      "cell_type": "code",
      "source": [
        "r5=tf.ragged.constant([[5,6],[7,8,3]])"
      ],
      "metadata": {
        "id": "5GfFpB6ZkiFq"
      },
      "execution_count": null,
      "outputs": []
    },
    {
      "cell_type": "code",
      "source": [
        "tf.concat([r4,r5],axis=0)"
      ],
      "metadata": {
        "colab": {
          "base_uri": "https://localhost:8080/"
        },
        "id": "ypy0PsxDkq1b",
        "outputId": "bfd665f8-e335-41e0-e029-f173158bb197"
      },
      "execution_count": null,
      "outputs": [
        {
          "output_type": "execute_result",
          "data": {
            "text/plain": [
              "<tf.RaggedTensor [[1, 2, 3], [4], [5, 6], [7, 8, 3]]>"
            ]
          },
          "metadata": {},
          "execution_count": 11
        }
      ]
    },
    {
      "cell_type": "code",
      "source": [
        "tf.concat([r4,r5],axis=1)"
      ],
      "metadata": {
        "colab": {
          "base_uri": "https://localhost:8080/"
        },
        "id": "lt0ZlBkkk1R4",
        "outputId": "6803d551-4b27-4695-c602-0312c9818ff4"
      },
      "execution_count": null,
      "outputs": [
        {
          "output_type": "execute_result",
          "data": {
            "text/plain": [
              "<tf.RaggedTensor [[1, 2, 3, 5, 6], [4, 7, 8, 3]]>"
            ]
          },
          "metadata": {},
          "execution_count": 12
        }
      ]
    },
    {
      "cell_type": "code",
      "source": [
        "r6=tf.ragged.constant([[5,6],[7,8,9,10]])"
      ],
      "metadata": {
        "id": "mKq3BhVEmUxr"
      },
      "execution_count": null,
      "outputs": []
    },
    {
      "cell_type": "code",
      "source": [
        "tf.concat([r4,r6],axis=0)"
      ],
      "metadata": {
        "colab": {
          "base_uri": "https://localhost:8080/"
        },
        "id": "re0EmoHKmapT",
        "outputId": "1d04c223-a60f-462f-d824-f19cd47c85ab"
      },
      "execution_count": null,
      "outputs": [
        {
          "output_type": "execute_result",
          "data": {
            "text/plain": [
              "<tf.RaggedTensor [[1, 2, 3], [4], [5, 6], [7, 8, 9, 10]]>"
            ]
          },
          "metadata": {},
          "execution_count": 14
        }
      ]
    },
    {
      "cell_type": "code",
      "source": [
        "tf.concat([r4,r6],axis=1)"
      ],
      "metadata": {
        "colab": {
          "base_uri": "https://localhost:8080/"
        },
        "id": "o-EIy74JmeN-",
        "outputId": "fcdca979-adfe-4e9b-c4b7-41b5006b3669"
      },
      "execution_count": null,
      "outputs": [
        {
          "output_type": "execute_result",
          "data": {
            "text/plain": [
              "<tf.RaggedTensor [[1, 2, 3, 5, 6],\n",
              " [4, 7, 8, 9, 10]]>"
            ]
          },
          "metadata": {},
          "execution_count": 15
        }
      ]
    },
    {
      "cell_type": "code",
      "source": [
        "r7=tf.ragged.constant([[1,2],[3,4],[5]])\n",
        "r8=tf.ragged.constant([[7],[],[9,10,11]])"
      ],
      "metadata": {
        "id": "oGQiDKobmh4p"
      },
      "execution_count": null,
      "outputs": []
    },
    {
      "cell_type": "code",
      "source": [
        "tf.concat([r7,r8],axis=0)"
      ],
      "metadata": {
        "colab": {
          "base_uri": "https://localhost:8080/"
        },
        "id": "c2soSLmpm82o",
        "outputId": "fd3dc169-d66c-4b30-cdd5-923709fe6314"
      },
      "execution_count": null,
      "outputs": [
        {
          "output_type": "execute_result",
          "data": {
            "text/plain": [
              "<tf.RaggedTensor [[1, 2], [3, 4], [5], [7], [], [9, 10, 11]]>"
            ]
          },
          "metadata": {},
          "execution_count": 17
        }
      ]
    },
    {
      "cell_type": "code",
      "source": [
        "tf.concat([r7,r8],axis=1)"
      ],
      "metadata": {
        "colab": {
          "base_uri": "https://localhost:8080/"
        },
        "id": "FIszUWJ3nIa6",
        "outputId": "4da3ba84-944b-4fd8-a85e-383c918eaf95"
      },
      "execution_count": null,
      "outputs": [
        {
          "output_type": "execute_result",
          "data": {
            "text/plain": [
              "<tf.RaggedTensor [[1, 2, 7], [3, 4], [5, 9, 10, 11]]>"
            ]
          },
          "metadata": {},
          "execution_count": 18
        }
      ]
    },
    {
      "cell_type": "code",
      "source": [
        "r8=tf.ragged.constant([[7],[],[9,10,11],[12,13]])"
      ],
      "metadata": {
        "id": "5PVAfOSwnMii"
      },
      "execution_count": null,
      "outputs": []
    },
    {
      "cell_type": "code",
      "source": [
        "r8"
      ],
      "metadata": {
        "colab": {
          "base_uri": "https://localhost:8080/"
        },
        "id": "SGu4OmUHnq3B",
        "outputId": "e381bfbc-5197-4d90-ed3e-5e3473cc3478"
      },
      "execution_count": null,
      "outputs": [
        {
          "output_type": "execute_result",
          "data": {
            "text/plain": [
              "<tf.RaggedTensor [[7], [], [9, 10, 11], [12, 13]]>"
            ]
          },
          "metadata": {},
          "execution_count": 20
        }
      ]
    },
    {
      "cell_type": "code",
      "source": [
        "r8.to_tensor()"
      ],
      "metadata": {
        "colab": {
          "base_uri": "https://localhost:8080/"
        },
        "id": "t3eDyxfMnrnS",
        "outputId": "ea5bfa5b-d0d8-42ec-f994-89820db53350"
      },
      "execution_count": null,
      "outputs": [
        {
          "output_type": "execute_result",
          "data": {
            "text/plain": [
              "<tf.Tensor: shape=(4, 3), dtype=int32, numpy=\n",
              "array([[ 7,  0,  0],\n",
              "       [ 0,  0,  0],\n",
              "       [ 9, 10, 11],\n",
              "       [12, 13,  0]], dtype=int32)>"
            ]
          },
          "metadata": {},
          "execution_count": 21
        }
      ]
    },
    {
      "cell_type": "code",
      "source": [
        "r8.to_tensor(default_value=5)"
      ],
      "metadata": {
        "colab": {
          "base_uri": "https://localhost:8080/"
        },
        "id": "8Fdf0mROn6FG",
        "outputId": "824f20fd-1589-4229-fa12-c2d6784409d2"
      },
      "execution_count": null,
      "outputs": [
        {
          "output_type": "execute_result",
          "data": {
            "text/plain": [
              "<tf.Tensor: shape=(4, 3), dtype=int32, numpy=\n",
              "array([[ 7,  5,  5],\n",
              "       [ 5,  5,  5],\n",
              "       [ 9, 10, 11],\n",
              "       [12, 13,  5]], dtype=int32)>"
            ]
          },
          "metadata": {},
          "execution_count": 22
        }
      ]
    },
    {
      "cell_type": "code",
      "source": [
        "a=tf.constant([[1,5,9]])\n",
        "b=tf.constant([[5,6,9,11]])\n",
        "u=tf.sets.union(a,b)"
      ],
      "metadata": {
        "id": "0Tq0asL2oKyw"
      },
      "execution_count": null,
      "outputs": []
    },
    {
      "cell_type": "code",
      "source": [
        "u"
      ],
      "metadata": {
        "colab": {
          "base_uri": "https://localhost:8080/"
        },
        "id": "nIcLZaFlN5gV",
        "outputId": "af94fc20-c838-4489-bf25-b92ec26690e2"
      },
      "execution_count": null,
      "outputs": [
        {
          "output_type": "execute_result",
          "data": {
            "text/plain": [
              "SparseTensor(indices=tf.Tensor(\n",
              "[[0 0]\n",
              " [0 1]\n",
              " [0 2]\n",
              " [0 3]\n",
              " [0 4]], shape=(5, 2), dtype=int64), values=tf.Tensor([ 1  5  6  9 11], shape=(5,), dtype=int32), dense_shape=tf.Tensor([1 5], shape=(2,), dtype=int64))"
            ]
          },
          "metadata": {},
          "execution_count": 24
        }
      ]
    },
    {
      "cell_type": "code",
      "source": [
        "tf.sparse.to_dense(u)"
      ],
      "metadata": {
        "colab": {
          "base_uri": "https://localhost:8080/"
        },
        "id": "eZk0wNXxN6er",
        "outputId": "079846a0-7e77-4e07-9494-8e5f2e2fbdbd"
      },
      "execution_count": null,
      "outputs": [
        {
          "output_type": "execute_result",
          "data": {
            "text/plain": [
              "<tf.Tensor: shape=(1, 5), dtype=int32, numpy=array([[ 1,  5,  6,  9, 11]], dtype=int32)>"
            ]
          },
          "metadata": {},
          "execution_count": 25
        }
      ]
    },
    {
      "cell_type": "code",
      "source": [
        "q=tf.queue.FIFOQueue(3,[tf.int32,tf.string],shapes=[(),()])"
      ],
      "metadata": {
        "id": "nj9T6V_GOJ1V"
      },
      "execution_count": null,
      "outputs": []
    },
    {
      "cell_type": "code",
      "source": [
        "q.enqueue([10,b\"windy\"])\n",
        "q.enqueue([15,b\"sunny\"])\n",
        "q.size()"
      ],
      "metadata": {
        "colab": {
          "base_uri": "https://localhost:8080/"
        },
        "id": "CQdzK1e1OV2E",
        "outputId": "a9f8ec2b-2494-4b44-a2b1-6aa60368e6b1"
      },
      "execution_count": null,
      "outputs": [
        {
          "output_type": "execute_result",
          "data": {
            "text/plain": [
              "<tf.Tensor: shape=(), dtype=int32, numpy=2>"
            ]
          },
          "metadata": {},
          "execution_count": 27
        }
      ]
    },
    {
      "cell_type": "code",
      "source": [
        "q.dequeue()"
      ],
      "metadata": {
        "colab": {
          "base_uri": "https://localhost:8080/"
        },
        "id": "ODsJI8L3OnAH",
        "outputId": "fb594df9-1d3a-427a-b886-2546a882a03e"
      },
      "execution_count": null,
      "outputs": [
        {
          "output_type": "execute_result",
          "data": {
            "text/plain": [
              "[<tf.Tensor: shape=(), dtype=int32, numpy=10>,\n",
              " <tf.Tensor: shape=(), dtype=string, numpy=b'windy'>]"
            ]
          },
          "metadata": {},
          "execution_count": 28
        }
      ]
    },
    {
      "cell_type": "markdown",
      "source": [
        "Multiple records at once using enqueue_many() and dequeue_many()"
      ],
      "metadata": {
        "id": "9GOzLgJfOuMn"
      }
    },
    {
      "cell_type": "code",
      "source": [
        "q.enqueue_many([[13,16],[b'cloudy',b'rainy']])\n",
        "q.dequeue_many(3)"
      ],
      "metadata": {
        "colab": {
          "base_uri": "https://localhost:8080/"
        },
        "id": "XJdLZGUXPyZ3",
        "outputId": "d7bbf98a-1ab4-47aa-f8d3-3745694036d7"
      },
      "execution_count": null,
      "outputs": [
        {
          "output_type": "execute_result",
          "data": {
            "text/plain": [
              "[<tf.Tensor: shape=(3,), dtype=int32, numpy=array([15, 13, 16], dtype=int32)>,\n",
              " <tf.Tensor: shape=(3,), dtype=string, numpy=array([b'sunny', b'cloudy', b'rainy'], dtype=object)>]"
            ]
          },
          "metadata": {},
          "execution_count": 29
        }
      ]
    },
    {
      "cell_type": "markdown",
      "source": [
        "Graphical mode and eager mode\n",
        "Customizing models"
      ],
      "metadata": {
        "id": "HgyK3IhjPeYj"
      }
    },
    {
      "cell_type": "code",
      "source": [
        "#My_loss_fn\n",
        "def my_loss_fn(y_true,y_pred):\n",
        "  error=y_true-y_pred\n",
        "  is_small_error=tf.abs(error)<1\n",
        "  squared_loss=tf.square(error)/2\n",
        "  linear_loss=tf.abs(error)-0.5\n",
        "  return tf.where(is_small_error,squared_loss,linear_loss)"
      ],
      "metadata": {
        "id": "hBnN4t0HPCt-"
      },
      "execution_count": null,
      "outputs": []
    },
    {
      "cell_type": "code",
      "source": [
        "#CNN\n"
      ],
      "metadata": {
        "id": "3DcmQG-sR259"
      },
      "execution_count": null,
      "outputs": []
    }
  ]
}