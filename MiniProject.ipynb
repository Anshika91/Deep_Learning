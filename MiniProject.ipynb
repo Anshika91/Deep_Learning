{
  "nbformat": 4,
  "nbformat_minor": 0,
  "metadata": {
    "colab": {
      "provenance": [],
      "authorship_tag": "ABX9TyOgsXyplsMnwSkAcUupbShc",
      "include_colab_link": true
    },
    "kernelspec": {
      "name": "python3",
      "display_name": "Python 3"
    },
    "language_info": {
      "name": "python"
    }
  },
  "cells": [
    {
      "cell_type": "markdown",
      "metadata": {
        "id": "view-in-github",
        "colab_type": "text"
      },
      "source": [
        "<a href=\"https://colab.research.google.com/github/Anshika91/Deep_Learning/blob/main/MiniProject.ipynb\" target=\"_parent\"><img src=\"https://colab.research.google.com/assets/colab-badge.svg\" alt=\"Open In Colab\"/></a>"
      ]
    },
    {
      "cell_type": "code",
      "source": [
        "import tensorflow as tf\n",
        "import numpy as np\n",
        "from keras.datasets import fashion_mnist\n",
        "from keras import optimizers\n",
        "from keras.models import *\n",
        "from keras.layers import *\n",
        "import pandas as pd\n",
        "from keras.models import Sequential\n",
        "from tensorflow import keras\n",
        "from keras.layers import Dense\n",
        "model=Sequential()"
      ],
      "metadata": {
        "id": "PCCOsGeqObaj"
      },
      "execution_count": 60,
      "outputs": []
    },
    {
      "cell_type": "code",
      "source": [
        "# Load Fashion MNIST dataset\n",
        "fashion_mnist = keras.datasets.fashion_mnist\n",
        "(train_images, train_labels), (test_images, test_labels) = fashion_mnist.load_data()"
      ],
      "metadata": {
        "id": "4pR55ZlOOj8T"
      },
      "execution_count": 61,
      "outputs": []
    },
    {
      "cell_type": "code",
      "source": [
        "\n",
        "train_images.shape"
      ],
      "metadata": {
        "id": "P7pfIBkZZAPn",
        "outputId": "185d71d2-541b-417d-f965-6a65e0f5d9ec",
        "colab": {
          "base_uri": "https://localhost:8080/"
        }
      },
      "execution_count": 62,
      "outputs": [
        {
          "output_type": "execute_result",
          "data": {
            "text/plain": [
              "(60000, 28, 28)"
            ]
          },
          "metadata": {},
          "execution_count": 62
        }
      ]
    },
    {
      "cell_type": "code",
      "source": [
        "test_images.shape"
      ],
      "metadata": {
        "id": "ykt_eq4bZLxA",
        "outputId": "6a287292-a097-425e-d42f-e4ee9b18d44e",
        "colab": {
          "base_uri": "https://localhost:8080/"
        }
      },
      "execution_count": 63,
      "outputs": [
        {
          "output_type": "execute_result",
          "data": {
            "text/plain": [
              "(10000, 28, 28)"
            ]
          },
          "metadata": {},
          "execution_count": 63
        }
      ]
    },
    {
      "cell_type": "code",
      "source": [
        "My_classes = [0, 1, 2, 3, 4, 5, 6, 7]\n",
        "class_names = [['Pullover'], ['Dress'], ['Coat'], ['Sandal'], ['Shirt'], ['Sneaker'], ['Bag']]"
      ],
      "metadata": {
        "id": "1OEeuv24fjj5"
      },
      "execution_count": 64,
      "outputs": []
    },
    {
      "cell_type": "code",
      "source": [
        "trained = np.isin(train_labels, My_classes)\n",
        "tested = np.isin(test_labels, My_classes)"
      ],
      "metadata": {
        "id": "6jGpOCumf45A"
      },
      "execution_count": 65,
      "outputs": []
    },
    {
      "cell_type": "code",
      "source": [
        "train_images_1 = train_images[trained]\n",
        "train_labels_1 = train_labels[trained]\n",
        "test_images_1 = test_images[tested]\n",
        "test_labels_1 = test_labels[tested]"
      ],
      "metadata": {
        "id": "BcRNSFlUgUwo"
      },
      "execution_count": 66,
      "outputs": []
    },
    {
      "cell_type": "code",
      "source": [
        "print(train_images_1.shape)\n",
        "print(train_labels_1.shape)"
      ],
      "metadata": {
        "id": "aGJxexuGjCCS",
        "outputId": "e4fd5d44-7644-4e25-bf64-6cba32f1b70d",
        "colab": {
          "base_uri": "https://localhost:8080/"
        }
      },
      "execution_count": 67,
      "outputs": [
        {
          "output_type": "stream",
          "name": "stdout",
          "text": [
            "(48000, 28, 28)\n",
            "(48000,)\n"
          ]
        }
      ]
    },
    {
      "cell_type": "code",
      "source": [
        "# Normalize pixel values to be between 0 and 1\n",
        "train_images = train_images / 255.0\n",
        "test_images = test_images / 255.0\n"
      ],
      "metadata": {
        "id": "o1Mb8tyFOmdQ"
      },
      "execution_count": 68,
      "outputs": []
    },
    {
      "cell_type": "code",
      "source": [
        "# Define the model architecture\n",
        "model = keras.Sequential([\n",
        "    keras.layers.Flatten(input_shape=(28, 28)),\n",
        "    keras.layers.Dense(256, activation='relu'),\n",
        "    keras.layers.Dense(128, activation='relu'),\n",
        "    keras.layers.Dense(64, activation='relu'),\n",
        "    keras.layers.Dense(8, activation='softmax')])"
      ],
      "metadata": {
        "id": "nYSj6LwTOrZG"
      },
      "execution_count": 69,
      "outputs": []
    },
    {
      "cell_type": "code",
      "source": [
        "# Compile the model\n",
        "model.compile(optimizer='adam', loss='sparse_categorical_crossentropy', metrics=['accuracy'])"
      ],
      "metadata": {
        "id": "APe8AcyROvfJ"
      },
      "execution_count": 70,
      "outputs": []
    },
    {
      "cell_type": "code",
      "source": [
        "# Train the model\n",
        "model.fit(train_images_1, train_labels_1, epochs=5,verbose=0)"
      ],
      "metadata": {
        "colab": {
          "base_uri": "https://localhost:8080/"
        },
        "id": "DQvK6QMLO121",
        "outputId": "c50a2a7e-b98c-4d54-ea39-0ab649f7d32a"
      },
      "execution_count": 71,
      "outputs": [
        {
          "output_type": "execute_result",
          "data": {
            "text/plain": [
              "<keras.callbacks.History at 0x7fe0b59f1070>"
            ]
          },
          "metadata": {},
          "execution_count": 71
        }
      ]
    },
    {
      "cell_type": "code",
      "source": [
        "#loss and accuracry\n",
        "loss, accuracy = model.evaluate(test_images_1, test_labels_1)"
      ],
      "metadata": {
        "id": "T4UVDTGITh82",
        "outputId": "fe371b0c-1848-46fd-de9d-33ae09337cd4",
        "colab": {
          "base_uri": "https://localhost:8080/"
        }
      },
      "execution_count": 72,
      "outputs": [
        {
          "output_type": "stream",
          "name": "stdout",
          "text": [
            "250/250 [==============================] - 1s 2ms/step - loss: 0.4498 - accuracy: 0.8347\n"
          ]
        }
      ]
    },
    {
      "cell_type": "code",
      "source": [
        "name_the_classes = ['T-shirt/top', 'Trouser', 'Pullover', 'Dress', 'Coat', 'Sandal', 'Shirt', 'Sneaker','Bag','Ankle boot']"
      ],
      "metadata": {
        "id": "X6T1e7E_j8pt"
      },
      "execution_count": 73,
      "outputs": []
    },
    {
      "cell_type": "code",
      "source": [
        "class_index = [name_the_classes.index('Coat'), name_the_classes.index('Ankle boot')]"
      ],
      "metadata": {
        "id": "Hyjh2RN9kGZK"
      },
      "execution_count": 74,
      "outputs": []
    },
    {
      "cell_type": "code",
      "source": [
        "train_images_2 = train_images[(train_labels == class_index[0]) | (train_labels == class_index[1])]\n",
        "train_labels_2 = train_labels[(train_labels == class_index[0]) | (train_labels == class_index[1])]"
      ],
      "metadata": {
        "id": "Vir6EICxkLw-"
      },
      "execution_count": 75,
      "outputs": []
    },
    {
      "cell_type": "code",
      "source": [
        "test_images_2 = test_images[(test_labels == class_index[0]) | (test_labels == class_index[1])]\n",
        "test_labels_2 = test_labels[(test_labels == class_index[0]) | (test_labels == class_index[1])]"
      ],
      "metadata": {
        "id": "i73XPhIGknH6"
      },
      "execution_count": 76,
      "outputs": []
    },
    {
      "cell_type": "code",
      "source": [
        "train_labels_2 = (train_labels_2 == class_index[1]).astype(int)\n",
        "test_labels_2 = (test_labels_2 == class_index[1]).astype(int)"
      ],
      "metadata": {
        "id": "oCOrKL4wk8-W"
      },
      "execution_count": 77,
      "outputs": []
    },
    {
      "cell_type": "code",
      "source": [
        "model_2_on_1 = Sequential(model.layers[:-1])"
      ],
      "metadata": {
        "id": "4YiEQQjBlPM6"
      },
      "execution_count": 78,
      "outputs": []
    },
    {
      "cell_type": "code",
      "source": [
        "model_2_on_1.add(Dense(1, activation=\"sigmoid\"))"
      ],
      "metadata": {
        "id": "-96Ak7fSlTWt"
      },
      "execution_count": 79,
      "outputs": []
    },
    {
      "cell_type": "code",
      "source": [
        "for layer in model_2_on_1.layers[:-1]:\n",
        " layer.trainable = False"
      ],
      "metadata": {
        "id": "NXFpErhrlXrO"
      },
      "execution_count": 95,
      "outputs": []
    },
    {
      "cell_type": "code",
      "source": [
        "model_2_on_1.compile(loss=\"binary_crossentropy\", optimizer=\"sgd\",metrics=[\"accuracy\"])"
      ],
      "metadata": {
        "id": "EViNQ7Lvl9UU"
      },
      "execution_count": 96,
      "outputs": []
    },
    {
      "cell_type": "code",
      "source": [
        "model_2_on_1.fit(train_images_2, train_labels_2, epochs=16,verbose=0)"
      ],
      "metadata": {
        "id": "v05TsKc_n_rM",
        "outputId": "35a8e242-8841-4c70-c7d0-d34d7029543b",
        "colab": {
          "base_uri": "https://localhost:8080/"
        }
      },
      "execution_count": 101,
      "outputs": [
        {
          "output_type": "execute_result",
          "data": {
            "text/plain": [
              "<keras.callbacks.History at 0x7fe1114b2fa0>"
            ]
          },
          "metadata": {},
          "execution_count": 101
        }
      ]
    },
    {
      "cell_type": "code",
      "source": [
        "for layer in model_2_on_1.layers[:-1]:\n",
        " layer.trainable = True"
      ],
      "metadata": {
        "id": "bUW_x9rxmIak"
      },
      "execution_count": 97,
      "outputs": []
    },
    {
      "cell_type": "code",
      "source": [
        "optimizer = optimizers.SGD(learning_rate=1e-5)\n",
        "model_2_on_1.compile(loss=\"binary_crossentropy\", optimizer=optimizer,metrics=[\"accuracy\"])\n"
      ],
      "metadata": {
        "id": "kZSchRvunhbq"
      },
      "execution_count": 98,
      "outputs": []
    },
    {
      "cell_type": "code",
      "source": [
        "model_2_on_1.fit(train_images_2, train_labels_2, epochs=16,verbose=0)"
      ],
      "metadata": {
        "id": "fke0nDeCnnMJ",
        "outputId": "f8d80093-af16-4205-acff-d15d189cfd4c",
        "colab": {
          "base_uri": "https://localhost:8080/"
        }
      },
      "execution_count": 99,
      "outputs": [
        {
          "output_type": "execute_result",
          "data": {
            "text/plain": [
              "<keras.callbacks.History at 0x7fe0dfe6e3d0>"
            ]
          },
          "metadata": {},
          "execution_count": 99
        }
      ]
    },
    {
      "cell_type": "code",
      "source": [
        "\n",
        "loss, accuracy = model_2_on_1.evaluate(test_images_2, test_labels_2)"
      ],
      "metadata": {
        "id": "L32JpWHBn2K6",
        "outputId": "d4bcd518-890f-4437-821e-9590cf4cbafa",
        "colab": {
          "base_uri": "https://localhost:8080/"
        }
      },
      "execution_count": 100,
      "outputs": [
        {
          "output_type": "stream",
          "name": "stdout",
          "text": [
            "63/63 [==============================] - 0s 4ms/step - loss: 0.7046 - accuracy: 0.5000\n"
          ]
        }
      ]
    },
    {
      "cell_type": "code",
      "source": [],
      "metadata": {
        "id": "-zN92RVUn75k"
      },
      "execution_count": null,
      "outputs": []
    }
  ]
}