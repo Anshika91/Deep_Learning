{
  "nbformat": 4,
  "nbformat_minor": 0,
  "metadata": {
    "colab": {
      "provenance": [],
      "gpuType": "T4",
      "authorship_tag": "ABX9TyPZ5BxhQ0pL3B1lY4Xyd0U0",
      "include_colab_link": true
    },
    "kernelspec": {
      "name": "python3",
      "display_name": "Python 3"
    },
    "language_info": {
      "name": "python"
    },
    "accelerator": "GPU",
    "gpuClass": "standard"
  },
  "cells": [
    {
      "cell_type": "markdown",
      "metadata": {
        "id": "view-in-github",
        "colab_type": "text"
      },
      "source": [
        "<a href=\"https://colab.research.google.com/github/Anshika91/Deep_Learning/blob/main/LeCun_Architecture.ipynb\" target=\"_parent\"><img src=\"https://colab.research.google.com/assets/colab-badge.svg\" alt=\"Open In Colab\"/></a>"
      ]
    },
    {
      "cell_type": "markdown",
      "source": [
        "LeNet-5\n",
        "Proposed by Lecun in 1989\n",
        "Total layers are 7\n",
        "Learnable layer=5\n",
        "Convolutional layer =3\n",
        "subsampling layer=2\n",
        "Fully connected layer =2\n",
        "with a softmax activation function/classifier.\n",
        "LeNet is a earliest pretrained model and in research gradient based learning is applied .\n",
        "this architecture is used to recognized handwritten and machine -printed characters.\n",
        "the main reason behind this popularity is simple and straightforward.\n",
        "LeCun applied Average pooling by this size of feature map is reduced by half and no.of channel is intact.\n",
        "\n"
      ],
      "metadata": {
        "id": "bMEwCZ1H-tHw"
      }
    },
    {
      "cell_type": "code",
      "execution_count": 61,
      "metadata": {
        "id": "gxZtqUCF-Rde"
      },
      "outputs": [],
      "source": [
        "import tensorflow as tf\n",
        "import keras\n",
        "import numpy as np\n",
        "import matplotlib.pyplot as plt\n",
        "from keras.layers import*\n",
        "from keras.models import*\n",
        "from keras import Sequential \n",
        "from keras.layers import Conv2D \n",
        "from keras.layers import Flatten\n",
        "from keras.layers import AvgPool2D\n",
        "from keras.layers import Dense\n",
        "from keras.layers import Dropout"
      ]
    },
    {
      "cell_type": "code",
      "source": [
        "model=Sequential()"
      ],
      "metadata": {
        "id": "OpMNXs00CywX"
      },
      "execution_count": 62,
      "outputs": []
    },
    {
      "cell_type": "code",
      "source": [
        "model.add(Conv2D(6,kernel_size = (5,5),activation = 'relu', input_shape = [32,32,1] , padding='valid'))\n",
        "model.add(AvgPool2D(pool_size = 2))\n",
        "model.add(Conv2D(16,kernel_size = (5,5), activation = 'relu',padding = 'valid'))\n",
        "model.add(AvgPool2D(pool_size = 2))\n",
        "model.add(Flatten())\n",
        "model.add(Dense(120,activation = 'tanh'))\n",
        "model.add(Dense(84,activation = 'tanh'))\n",
        "model.add(Dense(10,activation = 'softmax'))\n",
        "model.summary()"
      ],
      "metadata": {
        "colab": {
          "base_uri": "https://localhost:8080/"
        },
        "id": "BMYqGUuCBOjj",
        "outputId": "6cf90a79-5c0a-469d-a3ef-009a1efb0894"
      },
      "execution_count": 63,
      "outputs": [
        {
          "output_type": "stream",
          "name": "stdout",
          "text": [
            "Model: \"sequential_4\"\n",
            "_________________________________________________________________\n",
            " Layer (type)                Output Shape              Param #   \n",
            "=================================================================\n",
            " conv2d_8 (Conv2D)           (None, 28, 28, 6)         156       \n",
            "                                                                 \n",
            " average_pooling2d_8 (Averag  (None, 14, 14, 6)        0         \n",
            " ePooling2D)                                                     \n",
            "                                                                 \n",
            " conv2d_9 (Conv2D)           (None, 10, 10, 16)        2416      \n",
            "                                                                 \n",
            " average_pooling2d_9 (Averag  (None, 5, 5, 16)         0         \n",
            " ePooling2D)                                                     \n",
            "                                                                 \n",
            " flatten_4 (Flatten)         (None, 400)               0         \n",
            "                                                                 \n",
            " dense_12 (Dense)            (None, 120)               48120     \n",
            "                                                                 \n",
            " dense_13 (Dense)            (None, 84)                10164     \n",
            "                                                                 \n",
            " dense_14 (Dense)            (None, 10)                850       \n",
            "                                                                 \n",
            "=================================================================\n",
            "Total params: 61,706\n",
            "Trainable params: 61,706\n",
            "Non-trainable params: 0\n",
            "_________________________________________________________________\n"
          ]
        }
      ]
    },
    {
      "cell_type": "code",
      "source": [
        "tf.random.set_seed(221)\n",
        "np.random.seed(221)"
      ],
      "metadata": {
        "id": "ZLPNDwftEpKX"
      },
      "execution_count": 64,
      "outputs": []
    },
    {
      "cell_type": "code",
      "source": [
        "data = tf.keras.datasets.fashion_mnist"
      ],
      "metadata": {
        "id": "1KbIv4O9EtEh"
      },
      "execution_count": 65,
      "outputs": []
    },
    {
      "cell_type": "code",
      "source": [
        "(train_img,train_lbl),(test_img,test_lbl) = data.load_data()"
      ],
      "metadata": {
        "id": "-ETt10C1EwF_"
      },
      "execution_count": 66,
      "outputs": []
    },
    {
      "cell_type": "code",
      "source": [
        "len(train_img)"
      ],
      "metadata": {
        "colab": {
          "base_uri": "https://localhost:8080/"
        },
        "id": "j4afr4SBEy23",
        "outputId": "b9812fc6-589f-4a29-e618-bce8e8576e3e"
      },
      "execution_count": 67,
      "outputs": [
        {
          "output_type": "execute_result",
          "data": {
            "text/plain": [
              "60000"
            ]
          },
          "metadata": {},
          "execution_count": 67
        }
      ]
    },
    {
      "cell_type": "code",
      "source": [
        "len(test_img)"
      ],
      "metadata": {
        "colab": {
          "base_uri": "https://localhost:8080/"
        },
        "id": "LHtCqgNUE1MS",
        "outputId": "e12419c4-99b6-47dd-bf5d-e03edf66175c"
      },
      "execution_count": 68,
      "outputs": [
        {
          "output_type": "execute_result",
          "data": {
            "text/plain": [
              "10000"
            ]
          },
          "metadata": {},
          "execution_count": 68
        }
      ]
    },
    {
      "cell_type": "code",
      "source": [
        "train_img.shape"
      ],
      "metadata": {
        "colab": {
          "base_uri": "https://localhost:8080/"
        },
        "id": "rSKJORDJE3tF",
        "outputId": "5737668d-c6f6-4808-95bf-1ea3f37385cb"
      },
      "execution_count": 69,
      "outputs": [
        {
          "output_type": "execute_result",
          "data": {
            "text/plain": [
              "(60000, 28, 28)"
            ]
          },
          "metadata": {},
          "execution_count": 69
        }
      ]
    },
    {
      "cell_type": "code",
      "source": [
        "test_img.shape"
      ],
      "metadata": {
        "colab": {
          "base_uri": "https://localhost:8080/"
        },
        "id": "FU2JSnmlE6NQ",
        "outputId": "383d9285-9575-4f3e-c5ea-56aff827dd17"
      },
      "execution_count": 70,
      "outputs": [
        {
          "output_type": "execute_result",
          "data": {
            "text/plain": [
              "(10000, 28, 28)"
            ]
          },
          "metadata": {},
          "execution_count": 70
        }
      ]
    },
    {
      "cell_type": "code",
      "source": [
        "train_img = train_img.reshape(60000,28,28,1)"
      ],
      "metadata": {
        "id": "212K1ms3E9mK"
      },
      "execution_count": 71,
      "outputs": []
    },
    {
      "cell_type": "code",
      "source": [
        "#scale \n",
        "train_img = train_img/255.0"
      ],
      "metadata": {
        "id": "fNVeywLaFAJu"
      },
      "execution_count": 72,
      "outputs": []
    },
    {
      "cell_type": "code",
      "source": [
        "train_img = tf.image.pad_to_bounding_box(train_img,1,1,32,32)"
      ],
      "metadata": {
        "id": "Z0zmep6QVWMv"
      },
      "execution_count": 73,
      "outputs": []
    },
    {
      "cell_type": "code",
      "source": [
        "test_img = test_img.reshape(10000,28,28,1)"
      ],
      "metadata": {
        "id": "3oNSP94mFC3Z"
      },
      "execution_count": 74,
      "outputs": []
    },
    {
      "cell_type": "code",
      "source": [
        "#scale\n",
        "test_img = test_img/255.0"
      ],
      "metadata": {
        "id": "gQrkNpoIFT13"
      },
      "execution_count": 75,
      "outputs": []
    },
    {
      "cell_type": "code",
      "source": [
        "test_img = tf.image.pad_to_bounding_box(test_img,1,1,32,32)"
      ],
      "metadata": {
        "id": "1S7A-b73Vb79"
      },
      "execution_count": 76,
      "outputs": []
    },
    {
      "cell_type": "code",
      "source": [
        "train_lbl_5 = (train_lbl == 5)"
      ],
      "metadata": {
        "id": "6KrAqOMzPIeR"
      },
      "execution_count": 77,
      "outputs": []
    },
    {
      "cell_type": "code",
      "source": [
        "test_lbl_5 = (test_lbl == 5)"
      ],
      "metadata": {
        "id": "ERJiR64WPLQ2"
      },
      "execution_count": 78,
      "outputs": []
    },
    {
      "cell_type": "code",
      "source": [
        "model.compile(loss = 'sparse_categorical_crossentropy', optimizer = 'SGD', metrics ='accuracy')"
      ],
      "metadata": {
        "id": "-JFyTPuxEds9"
      },
      "execution_count": 79,
      "outputs": []
    },
    {
      "cell_type": "code",
      "source": [
        "history = model.fit(train_img,train_lbl,epochs=10,validation_data = (test_img,test_lbl))"
      ],
      "metadata": {
        "colab": {
          "base_uri": "https://localhost:8080/"
        },
        "id": "zxVm1d-7Fcgk",
        "outputId": "86e5de9f-1464-4ed2-c3c6-86d6d7d94d8f"
      },
      "execution_count": 80,
      "outputs": [
        {
          "output_type": "stream",
          "name": "stdout",
          "text": [
            "Epoch 1/10\n",
            "1875/1875 [==============================] - 9s 5ms/step - loss: 0.8034 - accuracy: 0.7092 - val_loss: 0.6232 - val_accuracy: 0.7624\n",
            "Epoch 2/10\n",
            "1875/1875 [==============================] - 8s 4ms/step - loss: 0.5251 - accuracy: 0.8038 - val_loss: 0.5203 - val_accuracy: 0.8095\n",
            "Epoch 3/10\n",
            "1875/1875 [==============================] - 7s 4ms/step - loss: 0.4693 - accuracy: 0.8264 - val_loss: 0.4753 - val_accuracy: 0.8305\n",
            "Epoch 4/10\n",
            "1875/1875 [==============================] - 8s 4ms/step - loss: 0.4349 - accuracy: 0.8406 - val_loss: 0.4866 - val_accuracy: 0.8181\n",
            "Epoch 5/10\n",
            "1875/1875 [==============================] - 7s 4ms/step - loss: 0.4125 - accuracy: 0.8483 - val_loss: 0.4419 - val_accuracy: 0.8416\n",
            "Epoch 6/10\n",
            "1875/1875 [==============================] - 8s 4ms/step - loss: 0.3944 - accuracy: 0.8559 - val_loss: 0.4368 - val_accuracy: 0.8358\n",
            "Epoch 7/10\n",
            "1875/1875 [==============================] - 8s 4ms/step - loss: 0.3789 - accuracy: 0.8613 - val_loss: 0.3978 - val_accuracy: 0.8552\n",
            "Epoch 8/10\n",
            "1875/1875 [==============================] - 7s 4ms/step - loss: 0.3671 - accuracy: 0.8648 - val_loss: 0.3913 - val_accuracy: 0.8583\n",
            "Epoch 9/10\n",
            "1875/1875 [==============================] - 8s 4ms/step - loss: 0.3558 - accuracy: 0.8697 - val_loss: 0.3842 - val_accuracy: 0.8582\n",
            "Epoch 10/10\n",
            "1875/1875 [==============================] - 7s 4ms/step - loss: 0.3469 - accuracy: 0.8727 - val_loss: 0.4005 - val_accuracy: 0.8512\n"
          ]
        }
      ]
    },
    {
      "cell_type": "code",
      "source": [
        "plt.plot(history.history['accuracy'],'r-')\n",
        "plt.plot(history.history['val_accuracy'],'g-')\n",
        "plt.show()"
      ],
      "metadata": {
        "colab": {
          "base_uri": "https://localhost:8080/",
          "height": 433
        },
        "id": "zASh-HLCPQhQ",
        "outputId": "29cb7225-5ba9-4fd9-8a75-0a4f3b5f7e85"
      },
      "execution_count": 81,
      "outputs": [
        {
          "output_type": "display_data",
          "data": {
            "text/plain": [
              "<Figure size 640x480 with 1 Axes>"
            ],
            "image/png": "[encoded data removed]"
          },
          "metadata": {}
        }
      ]
    },
    {
      "cell_type": "code",
      "source": [
        "plt.plot(history.history['loss'],'y-')\n",
        "plt.plot(history.history['val_loss'],'b-')\n",
        "plt.show()"
      ],
      "metadata": {
        "colab": {
          "base_uri": "https://localhost:8080/",
          "height": 430
        },
        "id": "4GWp2bI1PT1P",
        "outputId": "d650c1b1-cd7c-495a-e0bf-04ef138b18f7"
      },
      "execution_count": 82,
      "outputs": [
        {
          "output_type": "display_data",
          "data": {
            "text/plain": [
              "<Figure size 640x480 with 1 Axes>"
            ],
            "image/png": "[encoded data removed]"
          },
          "metadata": {}
        }
      ]
    },
    {
      "cell_type": "markdown",
      "source": [
        "AlexNet proposed by chellapilla in 2006 was 4 times faster than the CPU It competed imageLarge Scale total layer=8\n",
        "first 5 layers are convolutional and 3 layers fully connected activation function relu\n",
        "multipe GPU's\n",
        "overlapPooling means Pooling where stride value =1 \n",
        "This model is used for transfer learning"
      ],
      "metadata": {
        "id": "WoRSHJd6F4yf"
      }
    },
    {
      "cell_type": "code",
      "source": [],
      "metadata": {
        "id": "32x6vfMNFhLS"
      },
      "execution_count": 82,
      "outputs": []
    }
  ]
}