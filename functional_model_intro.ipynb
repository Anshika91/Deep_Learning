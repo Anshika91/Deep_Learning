{
  "nbformat": 4,
  "nbformat_minor": 0,
  "metadata": {
    "colab": {
      "provenance": [],
      "authorship_tag": "ABX9TyPScCJo2Nbt/gmVmgbEkWc1",
      "include_colab_link": true
    },
    "kernelspec": {
      "name": "python3",
      "display_name": "Python 3"
    },
    "language_info": {
      "name": "python"
    }
  },
  "cells": [
    {
      "cell_type": "markdown",
      "metadata": {
        "id": "view-in-github",
        "colab_type": "text"
      },
      "source": [
        "<a href=\"https://colab.research.google.com/github/Anshika91/Deep_Learning/blob/main/functional_model_intro.ipynb\" target=\"_parent\"><img src=\"https://colab.research.google.com/assets/colab-badge.svg\" alt=\"Open In Colab\"/></a>"
      ]
    },
    {
      "cell_type": "markdown",
      "source": [
        "neural network architecture using functional model\n"
      ],
      "metadata": {
        "id": "RXpnUsdM-mpe"
      }
    },
    {
      "cell_type": "code",
      "execution_count": 41,
      "metadata": {
        "colab": {
          "base_uri": "https://localhost:8080/"
        },
        "id": "BnrreBxP-NTk",
        "outputId": "a2db8658-25d9-4226-b29a-849146375d3a"
      },
      "outputs": [
        {
          "output_type": "stream",
          "name": "stdout",
          "text": [
            "Model: \"model_11\"\n",
            "__________________________________________________________________________________________________\n",
            " Layer (type)                   Output Shape         Param #     Connected to                     \n",
            "==================================================================================================\n",
            " input_12 (InputLayer)          [(None, 2)]          0           []                               \n",
            "                                                                                                  \n",
            " dense_44 (Dense)               (None, 2)            6           ['input_12[0][0]']               \n",
            "                                                                                                  \n",
            " dense_45 (Dense)               (None, 2)            6           ['input_12[0][0]']               \n",
            "                                                                                                  \n",
            " concatenate_11 (Concatenate)   (None, 4)            0           ['dense_44[0][0]',               \n",
            "                                                                  'dense_45[0][0]']               \n",
            "                                                                                                  \n",
            " dense_46 (Dense)               (None, 2)            10          ['concatenate_11[0][0]']         \n",
            "                                                                                                  \n",
            " dense_47 (Dense)               (None, 1)            3           ['dense_46[0][0]']               \n",
            "                                                                                                  \n",
            "==================================================================================================\n",
            "Total params: 25\n",
            "Trainable params: 25\n",
            "Non-trainable params: 0\n",
            "__________________________________________________________________________________________________\n"
          ]
        }
      ],
      "source": [
        "#functional Model\n",
        "from keras.layers import concatenate\n",
        "from keras.layers import *\n",
        "from keras.models import Model\n",
        "from keras.layers import Dense\n",
        "import tensorflow as tf\n",
        "tf.random.set_seed(34)\n",
        "x = Input(shape=2)\n",
        "h1_1 = Dense(units=2,activation='relu')(x)\n",
        "h1_2 = Dense(units=2,activation='relu')(x)\n",
        "C = concatenate([h1_1,h1_2])\n",
        "h2 = Dense(units=2,activation='relu')(C)\n",
        "o = Dense(units=1,activation='sigmoid')(h2)\n",
        "functional_model = Model(x,o)\n",
        "functional_model.summary()"
      ]
    },
    {
      "cell_type": "code",
      "source": [
        "import numpy as np\n",
        "ip=np.array([[0,0],[0,1],[1,0],[1,1]])\n",
        "op=np.array([[0],[1],[1],[1]])"
      ],
      "metadata": {
        "id": "HtEt8oS8_ClR"
      },
      "execution_count": 42,
      "outputs": []
    },
    {
      "cell_type": "code",
      "source": [
        "functional_model.compile(optimizer='sgd',loss='binary_crossentropy',metrics=['accuracy'])"
      ],
      "metadata": {
        "id": "6hI5S1NIBsAd"
      },
      "execution_count": 43,
      "outputs": []
    },
    {
      "cell_type": "code",
      "source": [
        "history=functional_model.fit(ip,op,epochs=10)"
      ],
      "metadata": {
        "colab": {
          "base_uri": "https://localhost:8080/"
        },
        "id": "9ykcMYwLAzEW",
        "outputId": "253ff49a-2228-4956-b794-55ae49ffba7a"
      },
      "execution_count": 44,
      "outputs": [
        {
          "output_type": "stream",
          "name": "stdout",
          "text": [
            "Epoch 1/10\n",
            "1/1 [==============================] - 0s 465ms/step - loss: 0.2494 - accuracy: 1.0000\n",
            "Epoch 2/10\n",
            "1/1 [==============================] - 0s 11ms/step - loss: 0.2491 - accuracy: 0.7500\n",
            "Epoch 3/10\n",
            "1/1 [==============================] - 0s 11ms/step - loss: 0.2485 - accuracy: 1.0000\n",
            "Epoch 4/10\n",
            "1/1 [==============================] - 0s 12ms/step - loss: 0.2482 - accuracy: 1.0000\n",
            "Epoch 5/10\n",
            "1/1 [==============================] - 0s 9ms/step - loss: 0.2477 - accuracy: 1.0000\n",
            "Epoch 6/10\n",
            "1/1 [==============================] - 0s 9ms/step - loss: 0.2472 - accuracy: 1.0000\n",
            "Epoch 7/10\n",
            "1/1 [==============================] - 0s 9ms/step - loss: 0.2468 - accuracy: 1.0000\n",
            "Epoch 8/10\n",
            "1/1 [==============================] - 0s 8ms/step - loss: 0.2463 - accuracy: 1.0000\n",
            "Epoch 9/10\n",
            "1/1 [==============================] - 0s 5ms/step - loss: 0.2460 - accuracy: 1.0000\n",
            "Epoch 10/10\n",
            "1/1 [==============================] - 0s 6ms/step - loss: 0.2455 - accuracy: 1.0000\n"
          ]
        }
      ]
    },
    {
      "cell_type": "code",
      "source": [
        "#evaluate the network\n",
        "loss,accuracy=functional_model.evaluate(ip,op)\n",
        "print(loss)\n",
        "print(accuracy)"
      ],
      "metadata": {
        "colab": {
          "base_uri": "https://localhost:8080/"
        },
        "id": "0ZGTETJYBOaF",
        "outputId": "511e165a-2777-4593-e4a0-2f4d66563de9"
      },
      "execution_count": 45,
      "outputs": [
        {
          "output_type": "stream",
          "name": "stderr",
          "text": [
            "WARNING:tensorflow:6 out of the last 7 calls to <function Model.make_test_function.<locals>.test_function at 0x7f91952cf8b0> triggered tf.function retracing. Tracing is expensive and the excessive number of tracings could be due to (1) creating @tf.function repeatedly in a loop, (2) passing tensors with different shapes, (3) passing Python objects instead of tensors. For (1), please define your @tf.function outside of the loop. For (2), @tf.function has reduce_retracing=True option that can avoid unnecessary retracing. For (3), please refer to https://www.tensorflow.org/guide/function#controlling_retracing and https://www.tensorflow.org/api_docs/python/tf/function for  more details.\n"
          ]
        },
        {
          "output_type": "stream",
          "name": "stdout",
          "text": [
            "1/1 [==============================] - 0s 139ms/step - loss: 0.2451 - accuracy: 1.0000\n",
            "0.24513067305088043\n",
            "1.0\n"
          ]
        }
      ]
    },
    {
      "cell_type": "code",
      "source": [
        "#make predictions\n",
        "prediction=functional_model.predict(ip)\n",
        "prediction=(functional_model.predict(ip)>0.5).astype(int)\n",
        "prediction"
      ],
      "metadata": {
        "colab": {
          "base_uri": "https://localhost:8080/"
        },
        "id": "MSqDVBj-Bf4A",
        "outputId": "34f34031-b3e9-4433-89a7-70263ca8c983"
      },
      "execution_count": 49,
      "outputs": [
        {
          "output_type": "stream",
          "name": "stdout",
          "text": [
            "1/1 [==============================] - 0s 24ms/step\n",
            "1/1 [==============================] - 0s 22ms/step\n"
          ]
        },
        {
          "output_type": "execute_result",
          "data": {
            "text/plain": [
              "array([[0],\n",
              "       [1],\n",
              "       [1],\n",
              "       [1]])"
            ]
          },
          "metadata": {},
          "execution_count": 49
        }
      ]
    },
    {
      "cell_type": "code",
      "source": [
        "print(prediction)"
      ],
      "metadata": {
        "colab": {
          "base_uri": "https://localhost:8080/"
        },
        "id": "z6fb1LV2CgdI",
        "outputId": "860e397a-b5d5-48a8-f9c8-5467336a5562"
      },
      "execution_count": 47,
      "outputs": [
        {
          "output_type": "stream",
          "name": "stdout",
          "text": [
            "[[0]\n",
            " [1]\n",
            " [1]\n",
            " [1]]\n"
          ]
        }
      ]
    },
    {
      "cell_type": "code",
      "source": [
        "functional_model.layers"
      ],
      "metadata": {
        "colab": {
          "base_uri": "https://localhost:8080/"
        },
        "id": "Nv4_q_34DJd0",
        "outputId": "670bb035-6a8e-4673-c3f9-e1965335efab"
      },
      "execution_count": 51,
      "outputs": [
        {
          "output_type": "execute_result",
          "data": {
            "text/plain": [
              "[<keras.engine.input_layer.InputLayer at 0x7f91952a37c0>,\n",
              " <keras.layers.core.dense.Dense at 0x7f9195f836a0>,\n",
              " <keras.layers.core.dense.Dense at 0x7f91952a35b0>,\n",
              " <keras.layers.merging.concatenate.Concatenate at 0x7f91952a3820>,\n",
              " <keras.layers.core.dense.Dense at 0x7f919529b5b0>,\n",
              " <keras.layers.core.dense.Dense at 0x7f919529bc40>]"
            ]
          },
          "metadata": {},
          "execution_count": 51
        }
      ]
    },
    {
      "cell_type": "code",
      "source": [
        "hidden1 = functional_model.layers[1]\n",
        "output = functional_model.layers[-1]\n",
        "weights,biasis = hidden1.get_weights()\n",
        "print('weights:',weights)\n",
        "print('bias:',biasis)"
      ],
      "metadata": {
        "colab": {
          "base_uri": "https://localhost:8080/"
        },
        "id": "O8pdNUS7DeQG",
        "outputId": "c483970c-1271-49ed-8c66-fabdc467c3cf"
      },
      "execution_count": 60,
      "outputs": [
        {
          "output_type": "stream",
          "name": "stdout",
          "text": [
            "weights: [[-0.06775985 -0.5860491 ]\n",
            " [ 1.1021895   0.46462747]]\n",
            "bias: [-4.7680642e-04  3.3294389e-05]\n"
          ]
        }
      ]
    },
    {
      "cell_type": "code",
      "source": [
        "#check what is waeights and bias\n",
        "output = functional_model.layers[-1]\n",
        "weights,biasis = hidden1.get_weights()\n"
      ],
      "metadata": {
        "id": "TO-VQf1WDrzl"
      },
      "execution_count": 58,
      "outputs": []
    },
    {
      "cell_type": "code",
      "source": [
        "print('weights:',weights)"
      ],
      "metadata": {
        "colab": {
          "base_uri": "https://localhost:8080/"
        },
        "id": "vXfVtGjIEIJn",
        "outputId": "727e6de0-dda9-4dac-b9aa-70bb7e0d9ab2"
      },
      "execution_count": 57,
      "outputs": [
        {
          "output_type": "stream",
          "name": "stdout",
          "text": [
            "weights: [[-0.06775985 -0.5860491 ]\n",
            " [ 1.1021895   0.46462747]]\n"
          ]
        }
      ]
    },
    {
      "cell_type": "code",
      "source": [
        "print('bias:',biasis)"
      ],
      "metadata": {
        "colab": {
          "base_uri": "https://localhost:8080/"
        },
        "id": "FRZQzr8zERXe",
        "outputId": "b6edc1c8-fac2-4dd5-bb22-56b09c6976fa"
      },
      "execution_count": 56,
      "outputs": [
        {
          "output_type": "stream",
          "name": "stdout",
          "text": [
            "[-4.7680642e-04  3.3294389e-05]\n"
          ]
        }
      ]
    },
    {
      "cell_type": "code",
      "source": [
        "functional_model.get_weights()"
      ],
      "metadata": {
        "colab": {
          "base_uri": "https://localhost:8080/"
        },
        "id": "K7t1bNTUEVkQ",
        "outputId": "b3548125-0f03-43d3-9650-28147b40d9b3"
      },
      "execution_count": 59,
      "outputs": [
        {
          "output_type": "execute_result",
          "data": {
            "text/plain": [
              "[array([[-0.06775985, -0.5860491 ],\n",
              "        [ 1.1021895 ,  0.46462747]], dtype=float32),\n",
              " array([-4.7680642e-04,  3.3294389e-05], dtype=float32),\n",
              " array([[-1.0973021 ,  1.1864463 ],\n",
              "        [ 0.02295705,  1.0725151 ]], dtype=float32),\n",
              " array([3.0703057e-05, 6.9284003e-04], dtype=float32),\n",
              " array([[ 0.5355368 ,  0.854027  ],\n",
              "        [ 0.2573739 ,  0.78471994],\n",
              "        [-0.46672544,  0.6611636 ],\n",
              "        [ 0.8246855 ,  1.011863  ]], dtype=float32),\n",
              " array([0.00130396, 0.0008273 ], dtype=float32),\n",
              " array([[-0.29235289],\n",
              "        [ 1.4237397 ]], dtype=float32),\n",
              " array([-0.00565884], dtype=float32)]"
            ]
          },
          "metadata": {},
          "execution_count": 59
        }
      ]
    },
    {
      "cell_type": "code",
      "source": [],
      "metadata": {
        "id": "4k5dbJtQE2wx"
      },
      "execution_count": null,
      "outputs": []
    }
  ]
}